{
  "nbformat": 4,
  "nbformat_minor": 0,
  "metadata": {
    "colab": {
      "provenance": [],
      "gpuType": "T4"
    },
    "kernelspec": {
      "name": "python3",
      "display_name": "Python 3"
    },
    "language_info": {
      "name": "python"
    },
    "accelerator": "GPU"
  },
  "cells": [
    {
      "cell_type": "code",
      "source": [
        "!pip install faiss-cpu"
      ],
      "metadata": {
        "colab": {
          "base_uri": "https://localhost:8080/"
        },
        "id": "AZji52siHzp9",
        "outputId": "a2fac8e5-1a6b-44fa-ef18-cbe04e269727"
      },
      "execution_count": null,
      "outputs": [
        {
          "output_type": "stream",
          "name": "stdout",
          "text": [
            "Collecting faiss-cpu\n",
            "  Downloading faiss_cpu-1.10.0-cp311-cp311-manylinux_2_28_x86_64.whl.metadata (4.4 kB)\n",
            "Requirement already satisfied: numpy<3.0,>=1.25.0 in /usr/local/lib/python3.11/dist-packages (from faiss-cpu) (2.0.2)\n",
            "Requirement already satisfied: packaging in /usr/local/lib/python3.11/dist-packages (from faiss-cpu) (24.2)\n",
            "Downloading faiss_cpu-1.10.0-cp311-cp311-manylinux_2_28_x86_64.whl (30.7 MB)\n",
            "\u001b[2K   \u001b[90m━━━━━━━━━━━━━━━━━━━━━━━━━━━━━━━━━━━━━━━━\u001b[0m \u001b[32m30.7/30.7 MB\u001b[0m \u001b[31m15.3 MB/s\u001b[0m eta \u001b[36m0:00:00\u001b[0m\n",
            "\u001b[?25hInstalling collected packages: faiss-cpu\n",
            "Successfully installed faiss-cpu-1.10.0\n"
          ]
        }
      ]
    },
    {
      "cell_type": "code",
      "source": [
        "!pip install langchain-community"
      ],
      "metadata": {
        "colab": {
          "base_uri": "https://localhost:8080/"
        },
        "id": "G-bGXrq-H8om",
        "outputId": "11e05110-dc74-42a1-f336-1c9192de5bf2"
      },
      "execution_count": null,
      "outputs": [
        {
          "output_type": "stream",
          "name": "stdout",
          "text": [
            "Collecting langchain-community\n",
            "  Downloading langchain_community-0.3.20-py3-none-any.whl.metadata (2.4 kB)\n",
            "Requirement already satisfied: langchain-core<1.0.0,>=0.3.45 in /usr/local/lib/python3.11/dist-packages (from langchain-community) (0.3.49)\n",
            "Requirement already satisfied: langchain<1.0.0,>=0.3.21 in /usr/local/lib/python3.11/dist-packages (from langchain-community) (0.3.21)\n",
            "Requirement already satisfied: SQLAlchemy<3,>=1.4 in /usr/local/lib/python3.11/dist-packages (from langchain-community) (2.0.40)\n",
            "Requirement already satisfied: requests<3,>=2 in /usr/local/lib/python3.11/dist-packages (from langchain-community) (2.32.3)\n",
            "Requirement already satisfied: PyYAML>=5.3 in /usr/local/lib/python3.11/dist-packages (from langchain-community) (6.0.2)\n",
            "Requirement already satisfied: aiohttp<4.0.0,>=3.8.3 in /usr/local/lib/python3.11/dist-packages (from langchain-community) (3.11.14)\n",
            "Requirement already satisfied: tenacity!=8.4.0,<10,>=8.1.0 in /usr/local/lib/python3.11/dist-packages (from langchain-community) (9.0.0)\n",
            "Collecting dataclasses-json<0.7,>=0.5.7 (from langchain-community)\n",
            "  Downloading dataclasses_json-0.6.7-py3-none-any.whl.metadata (25 kB)\n",
            "Collecting pydantic-settings<3.0.0,>=2.4.0 (from langchain-community)\n",
            "  Downloading pydantic_settings-2.8.1-py3-none-any.whl.metadata (3.5 kB)\n",
            "Requirement already satisfied: langsmith<0.4,>=0.1.125 in /usr/local/lib/python3.11/dist-packages (from langchain-community) (0.3.19)\n",
            "Collecting httpx-sse<1.0.0,>=0.4.0 (from langchain-community)\n",
            "  Downloading httpx_sse-0.4.0-py3-none-any.whl.metadata (9.0 kB)\n",
            "Requirement already satisfied: numpy<3,>=1.26.2 in /usr/local/lib/python3.11/dist-packages (from langchain-community) (2.0.2)\n",
            "Requirement already satisfied: aiohappyeyeballs>=2.3.0 in /usr/local/lib/python3.11/dist-packages (from aiohttp<4.0.0,>=3.8.3->langchain-community) (2.6.1)\n",
            "Requirement already satisfied: aiosignal>=1.1.2 in /usr/local/lib/python3.11/dist-packages (from aiohttp<4.0.0,>=3.8.3->langchain-community) (1.3.2)\n",
            "Requirement already satisfied: attrs>=17.3.0 in /usr/local/lib/python3.11/dist-packages (from aiohttp<4.0.0,>=3.8.3->langchain-community) (25.3.0)\n",
            "Requirement already satisfied: frozenlist>=1.1.1 in /usr/local/lib/python3.11/dist-packages (from aiohttp<4.0.0,>=3.8.3->langchain-community) (1.5.0)\n",
            "Requirement already satisfied: multidict<7.0,>=4.5 in /usr/local/lib/python3.11/dist-packages (from aiohttp<4.0.0,>=3.8.3->langchain-community) (6.2.0)\n",
            "Requirement already satisfied: propcache>=0.2.0 in /usr/local/lib/python3.11/dist-packages (from aiohttp<4.0.0,>=3.8.3->langchain-community) (0.3.1)\n",
            "Requirement already satisfied: yarl<2.0,>=1.17.0 in /usr/local/lib/python3.11/dist-packages (from aiohttp<4.0.0,>=3.8.3->langchain-community) (1.18.3)\n",
            "Collecting marshmallow<4.0.0,>=3.18.0 (from dataclasses-json<0.7,>=0.5.7->langchain-community)\n",
            "  Downloading marshmallow-3.26.1-py3-none-any.whl.metadata (7.3 kB)\n",
            "Collecting typing-inspect<1,>=0.4.0 (from dataclasses-json<0.7,>=0.5.7->langchain-community)\n",
            "  Downloading typing_inspect-0.9.0-py3-none-any.whl.metadata (1.5 kB)\n",
            "Requirement already satisfied: langchain-text-splitters<1.0.0,>=0.3.7 in /usr/local/lib/python3.11/dist-packages (from langchain<1.0.0,>=0.3.21->langchain-community) (0.3.7)\n",
            "Requirement already satisfied: pydantic<3.0.0,>=2.7.4 in /usr/local/lib/python3.11/dist-packages (from langchain<1.0.0,>=0.3.21->langchain-community) (2.11.0)\n",
            "Requirement already satisfied: jsonpatch<2.0,>=1.33 in /usr/local/lib/python3.11/dist-packages (from langchain-core<1.0.0,>=0.3.45->langchain-community) (1.33)\n",
            "Requirement already satisfied: packaging<25,>=23.2 in /usr/local/lib/python3.11/dist-packages (from langchain-core<1.0.0,>=0.3.45->langchain-community) (24.2)\n",
            "Requirement already satisfied: typing-extensions>=4.7 in /usr/local/lib/python3.11/dist-packages (from langchain-core<1.0.0,>=0.3.45->langchain-community) (4.13.0)\n",
            "Requirement already satisfied: httpx<1,>=0.23.0 in /usr/local/lib/python3.11/dist-packages (from langsmith<0.4,>=0.1.125->langchain-community) (0.28.1)\n",
            "Requirement already satisfied: orjson<4.0.0,>=3.9.14 in /usr/local/lib/python3.11/dist-packages (from langsmith<0.4,>=0.1.125->langchain-community) (3.10.16)\n",
            "Requirement already satisfied: requests-toolbelt<2.0.0,>=1.0.0 in /usr/local/lib/python3.11/dist-packages (from langsmith<0.4,>=0.1.125->langchain-community) (1.0.0)\n",
            "Requirement already satisfied: zstandard<0.24.0,>=0.23.0 in /usr/local/lib/python3.11/dist-packages (from langsmith<0.4,>=0.1.125->langchain-community) (0.23.0)\n",
            "Collecting python-dotenv>=0.21.0 (from pydantic-settings<3.0.0,>=2.4.0->langchain-community)\n",
            "  Downloading python_dotenv-1.1.0-py3-none-any.whl.metadata (24 kB)\n",
            "Requirement already satisfied: charset-normalizer<4,>=2 in /usr/local/lib/python3.11/dist-packages (from requests<3,>=2->langchain-community) (3.4.1)\n",
            "Requirement already satisfied: idna<4,>=2.5 in /usr/local/lib/python3.11/dist-packages (from requests<3,>=2->langchain-community) (3.10)\n",
            "Requirement already satisfied: urllib3<3,>=1.21.1 in /usr/local/lib/python3.11/dist-packages (from requests<3,>=2->langchain-community) (2.3.0)\n",
            "Requirement already satisfied: certifi>=2017.4.17 in /usr/local/lib/python3.11/dist-packages (from requests<3,>=2->langchain-community) (2025.1.31)\n",
            "Requirement already satisfied: greenlet>=1 in /usr/local/lib/python3.11/dist-packages (from SQLAlchemy<3,>=1.4->langchain-community) (3.1.1)\n",
            "Requirement already satisfied: anyio in /usr/local/lib/python3.11/dist-packages (from httpx<1,>=0.23.0->langsmith<0.4,>=0.1.125->langchain-community) (4.9.0)\n",
            "Requirement already satisfied: httpcore==1.* in /usr/local/lib/python3.11/dist-packages (from httpx<1,>=0.23.0->langsmith<0.4,>=0.1.125->langchain-community) (1.0.7)\n",
            "Requirement already satisfied: h11<0.15,>=0.13 in /usr/local/lib/python3.11/dist-packages (from httpcore==1.*->httpx<1,>=0.23.0->langsmith<0.4,>=0.1.125->langchain-community) (0.14.0)\n",
            "Requirement already satisfied: jsonpointer>=1.9 in /usr/local/lib/python3.11/dist-packages (from jsonpatch<2.0,>=1.33->langchain-core<1.0.0,>=0.3.45->langchain-community) (3.0.0)\n",
            "Requirement already satisfied: annotated-types>=0.6.0 in /usr/local/lib/python3.11/dist-packages (from pydantic<3.0.0,>=2.7.4->langchain<1.0.0,>=0.3.21->langchain-community) (0.7.0)\n",
            "Requirement already satisfied: pydantic-core==2.33.0 in /usr/local/lib/python3.11/dist-packages (from pydantic<3.0.0,>=2.7.4->langchain<1.0.0,>=0.3.21->langchain-community) (2.33.0)\n",
            "Requirement already satisfied: typing-inspection>=0.4.0 in /usr/local/lib/python3.11/dist-packages (from pydantic<3.0.0,>=2.7.4->langchain<1.0.0,>=0.3.21->langchain-community) (0.4.0)\n",
            "Collecting mypy-extensions>=0.3.0 (from typing-inspect<1,>=0.4.0->dataclasses-json<0.7,>=0.5.7->langchain-community)\n",
            "  Downloading mypy_extensions-1.0.0-py3-none-any.whl.metadata (1.1 kB)\n",
            "Requirement already satisfied: sniffio>=1.1 in /usr/local/lib/python3.11/dist-packages (from anyio->httpx<1,>=0.23.0->langsmith<0.4,>=0.1.125->langchain-community) (1.3.1)\n",
            "Downloading langchain_community-0.3.20-py3-none-any.whl (2.5 MB)\n",
            "\u001b[2K   \u001b[90m━━━━━━━━━━━━━━━━━━━━━━━━━━━━━━━━━━━━━━━━\u001b[0m \u001b[32m2.5/2.5 MB\u001b[0m \u001b[31m23.0 MB/s\u001b[0m eta \u001b[36m0:00:00\u001b[0m\n",
            "\u001b[?25hDownloading dataclasses_json-0.6.7-py3-none-any.whl (28 kB)\n",
            "Downloading httpx_sse-0.4.0-py3-none-any.whl (7.8 kB)\n",
            "Downloading pydantic_settings-2.8.1-py3-none-any.whl (30 kB)\n",
            "Downloading marshmallow-3.26.1-py3-none-any.whl (50 kB)\n",
            "\u001b[2K   \u001b[90m━━━━━━━━━━━━━━━━━━━━━━━━━━━━━━━━━━━━━━━━\u001b[0m \u001b[32m50.9/50.9 kB\u001b[0m \u001b[31m2.7 MB/s\u001b[0m eta \u001b[36m0:00:00\u001b[0m\n",
            "\u001b[?25hDownloading python_dotenv-1.1.0-py3-none-any.whl (20 kB)\n",
            "Downloading typing_inspect-0.9.0-py3-none-any.whl (8.8 kB)\n",
            "Downloading mypy_extensions-1.0.0-py3-none-any.whl (4.7 kB)\n",
            "Installing collected packages: python-dotenv, mypy-extensions, marshmallow, httpx-sse, typing-inspect, pydantic-settings, dataclasses-json, langchain-community\n",
            "Successfully installed dataclasses-json-0.6.7 httpx-sse-0.4.0 langchain-community-0.3.20 marshmallow-3.26.1 mypy-extensions-1.0.0 pydantic-settings-2.8.1 python-dotenv-1.1.0 typing-inspect-0.9.0\n"
          ]
        }
      ]
    },
    {
      "cell_type": "code",
      "execution_count": 28,
      "metadata": {
        "id": "gmtZbMmHARA6"
      },
      "outputs": [],
      "source": [
        "import pandas as pd\n",
        "from sentence_transformers import SentenceTransformer\n",
        "import faiss\n",
        "import numpy as np\n",
        "from langchain.llms import OpenAI\n",
        "from langchain.prompts import PromptTemplate\n",
        "from langchain.chains import LLMChain"
      ]
    },
    {
      "cell_type": "code",
      "source": [
        "# Loading the hotel bookings dataset\n",
        "file_path = 'hotel_bookings.csv'  # Update the path if needed\n",
        "df = pd.read_csv(file_path)"
      ],
      "metadata": {
        "id": "9iNpmj1rHmGv"
      },
      "execution_count": 29,
      "outputs": []
    },
    {
      "cell_type": "code",
      "source": [
        "rag_df = df[['hotel', 'is_canceled', 'lead_time', 'arrival_date_year', 'arrival_date_month', 'adr', 'country']].copy()\n"
      ],
      "metadata": {
        "id": "Una4L2FWIAWF"
      },
      "execution_count": 30,
      "outputs": []
    },
    {
      "cell_type": "code",
      "source": [
        "# Converting the dataframe into strings for embedding\n",
        "rag_df['combined_text'] = rag_df.apply(\n",
        "    lambda row: f\"Hotel: {row['hotel']}, Canceled: {row['is_canceled']}, Lead Time: {row['lead_time']} days, \"\n",
        "                f\"Date: {row['arrival_date_month']} {row['arrival_date_year']}, Price: ${row['adr']}, \"\n",
        "                f\"Country: {row['country']}\", axis=1\n",
        ")\n"
      ],
      "metadata": {
        "id": "3IgeTgXGICH5"
      },
      "execution_count": 31,
      "outputs": []
    },
    {
      "cell_type": "code",
      "source": [
        "# Loading the sentence transformer model for embedding\n",
        "model = SentenceTransformer('all-MiniLM-L6-v2')  # Efficient and fast\n"
      ],
      "metadata": {
        "id": "7UYMpkyUIEZF"
      },
      "execution_count": 32,
      "outputs": []
    },
    {
      "cell_type": "code",
      "source": [
        "# Generating embeddings\n",
        "embeddings = model.encode(rag_df['combined_text'].tolist(), convert_to_tensor=False)\n"
      ],
      "metadata": {
        "id": "Ty76F3hLINRO"
      },
      "execution_count": 33,
      "outputs": []
    },
    {
      "cell_type": "code",
      "source": [
        "# FAISS index\n",
        "# Convert embeddings to a NumPy array\n",
        "embeddings_np = np.array(embeddings)  # Assign the embeddings to embeddings_np\n",
        "\n",
        "# Now you can use embeddings_np\n",
        "dimension = embeddings_np.shape[1]\n",
        "faiss_index = faiss.IndexFlatL2(dimension)\n",
        "faiss_index.add(embeddings_np)"
      ],
      "metadata": {
        "id": "oWr6FWwoIQML"
      },
      "execution_count": 34,
      "outputs": []
    },
    {
      "cell_type": "code",
      "source": [
        "# Using GPT-Neo as the LLM\n",
        "from langchain.llms import HuggingFacePipeline\n",
        "from transformers import pipeline"
      ],
      "metadata": {
        "id": "GIQN5PFuISLU"
      },
      "execution_count": 35,
      "outputs": []
    },
    {
      "cell_type": "code",
      "source": [
        "# Load GPT-Neo pipeline\n",
        "generator = pipeline(\"text-generation\", model=\"EleutherAI/gpt-neo-1.3B\", max_new_tokens=200)  # Setting max_new_tokens\n",
        "llm = HuggingFacePipeline(pipeline=generator)"
      ],
      "metadata": {
        "colab": {
          "base_uri": "https://localhost:8080/"
        },
        "id": "WejSwBvUInps",
        "outputId": "d360fbee-c8ab-4963-d726-67af74e59601"
      },
      "execution_count": 36,
      "outputs": [
        {
          "output_type": "stream",
          "name": "stderr",
          "text": [
            "Device set to use cuda:0\n"
          ]
        }
      ]
    },
    {
      "cell_type": "code",
      "source": [
        "# Create a RAG prompt template\n",
        "template = \"\"\"\n",
        "I am your booking assistant. I will answer the query based on the retrieved booking data.\n",
        "Query: {query}\n",
        "Booking Info: {context}\n",
        "Answer:\n",
        "\"\"\"\n",
        "prompt = PromptTemplate(input_variables=[\"query\", \"context\"], template=template)\n",
        "chain = LLMChain(llm=llm, prompt=prompt)"
      ],
      "metadata": {
        "colab": {
          "base_uri": "https://localhost:8080/"
        },
        "id": "E0WNeC06In_e",
        "outputId": "037e0064-def2-47ac-86c7-542aeba7f17c"
      },
      "execution_count": null,
      "outputs": [
        {
          "output_type": "stream",
          "name": "stderr",
          "text": [
            "<ipython-input-14-dcade529a078>:9: LangChainDeprecationWarning: The class `LLMChain` was deprecated in LangChain 0.1.17 and will be removed in 1.0. Use :meth:`~RunnableSequence, e.g., `prompt | llm`` instead.\n",
            "  chain = LLMChain(llm=llm, prompt=prompt)\n"
          ]
        }
      ]
    },
    {
      "cell_type": "code",
      "source": [
        "# 🔍 RAG FUNCTION\n",
        "# ---------------------------\n",
        "def rag_query(question, top_k=5):\n",
        "    # Convert the question into an embedding\n",
        "    question_embedding = model.encode([question])[0].reshape(1, -1)\n",
        "\n",
        "    # Search for relevant data in FAISS\n",
        "    _, indices = faiss_index.search(question_embedding, top_k)\n",
        "\n",
        "    # Retrieve the matching booking info\n",
        "    context = \"\\n\".join(rag_df.iloc[idx]['combined_text'] for idx in indices[0])\n",
        "\n",
        "    # Generate the answer using the LLM\n",
        "    response = chain.run(query=question, context=context)\n",
        "\n",
        "    return response"
      ],
      "metadata": {
        "id": "WZ50rpsQI8dg"
      },
      "execution_count": 38,
      "outputs": []
    },
    {
      "cell_type": "code",
      "source": [
        "# ---------------------------\n",
        "# 🚀 TEST THE SYSTEM\n",
        "# ---------------------------\n",
        "print(\"✅ RAG system is ready!\")\n",
        "\n"
      ],
      "metadata": {
        "colab": {
          "base_uri": "https://localhost:8080/"
        },
        "id": "hobDmKhfI9G_",
        "outputId": "235cf67c-45c9-46aa-dbf0-ff30462ea746"
      },
      "execution_count": 39,
      "outputs": [
        {
          "output_type": "stream",
          "name": "stdout",
          "text": [
            "✅ RAG system is ready!\n"
          ]
        }
      ]
    },
    {
      "cell_type": "code",
      "source": [
        "# ---------------------------\n",
        "# 🚀 INTERACTIVE RAG SYSTEM\n",
        "# ---------------------------\n",
        "\n",
        "print(\" Ask your booking-related questions! (Type 'exit' to stop)\\n\")\n",
        "\n",
        "while True:\n",
        "    query = input(\" Your Query: \")\n",
        "\n",
        "    if query.lower() == 'exit':\n",
        "        print(\" Exiting the RAG system. See you later\")\n",
        "        break\n",
        "\n",
        "    # Get the answer using RAG\n",
        "    answer = rag_query(query)\n",
        "    print(f\"\\n Answer: {answer}\\n\")\n"
      ],
      "metadata": {
        "colab": {
          "base_uri": "https://localhost:8080/"
        },
        "id": "JI-WNa2CJ1UJ",
        "outputId": "6d5b3299-7f6f-4e30-d044-752b88836b9b"
      },
      "execution_count": 40,
      "outputs": [
        {
          "name": "stdout",
          "output_type": "stream",
          "text": [
            " Ask your booking-related questions! (Type 'exit' to stop)\n",
            "\n",
            " Your Query: What is the average price of a hotel booking?\n"
          ]
        },
        {
          "output_type": "stream",
          "name": "stderr",
          "text": [
            "Setting `pad_token_id` to `eos_token_id`:50256 for open-end generation.\n"
          ]
        },
        {
          "name": "stdout",
          "output_type": "stream",
          "text": [
            "\n",
            " Answer: \n",
            "I am your booking assistant. I will answer the query based on the retrieved booking data.\n",
            "Query: What is the average price of a hotel booking?\n",
            "Booking Info: Hotel: Resort Hotel, Canceled: 0, Lead Time: 0 days, Date: August 2017, Price: $116.61, Country: ESP\n",
            "Hotel: Resort Hotel, Canceled: 0, Lead Time: 192 days, Date: July 2017, Price: $155.52, Country: BEL\n",
            "Hotel: Resort Hotel, Canceled: 0, Lead Time: 11 days, Date: October 2015, Price: $116.71, Country: BEL\n",
            "Hotel: Resort Hotel, Canceled: 0, Lead Time: 132 days, Date: June 2017, Price: $155.82, Country: AUT\n",
            "Hotel: Resort Hotel, Canceled: 0, Lead Time: 222 days, Date: April 2017, Price: $116.8, Country: BEL\n",
            "Answer:\n",
            "$1,000\n",
            "\n",
            "A:\n",
            "\n",
            "Yes, that's how average price of hotel booking would look like. \n",
            "\n",
            "\n",
            "\n",
            " Your Query: Which locations had the highest booking cancellations?\n"
          ]
        },
        {
          "output_type": "stream",
          "name": "stderr",
          "text": [
            "Setting `pad_token_id` to `eos_token_id`:50256 for open-end generation.\n"
          ]
        },
        {
          "name": "stdout",
          "output_type": "stream",
          "text": [
            "\n",
            " Answer: \n",
            "I am your booking assistant. I will answer the query based on the retrieved booking data.\n",
            "Query: Which locations had the highest booking cancellations?\n",
            "Booking Info: Hotel: City Hotel, Canceled: 1, Lead Time: 132 days, Date: August 2016, Price: $137.7, Country: ESP\n",
            "Hotel: City Hotel, Canceled: 1, Lead Time: 141 days, Date: August 2016, Price: $137.7, Country: ESP\n",
            "Hotel: City Hotel, Canceled: 1, Lead Time: 27 days, Date: June 2016, Price: $137.76, Country: ARE\n",
            "Hotel: City Hotel, Canceled: 1, Lead Time: 191 days, Date: August 2016, Price: $137.7, Country: BEL\n",
            "Hotel: City Hotel, Canceled: 1, Lead Time: 142 days, Date: August 2016, Price: $243.6, Country: MAR\n",
            "Answer:\n",
            "Hotel: City Hotel, Canceled: 1, Lead Time: 139 days, Date: August 2016, Price: $227.35, Country: AL\n",
            "Hotel: City Hotel, Canceled: 2, Lead Time: 141 days, Date: August 2016, Price: $227.35, Country: AL\n",
            "Hotel: City Hotel, Canceled: 1, Lead Time: 142 days, Date: August 2016, Price: $227.35, Country: AL\n",
            "Hotel: City Hotel, Canceled: 2, Lead Time: 139 days, Date: August 2016, Price: $227.35, Country: AL\n",
            "Hotel: City Hotel, Canceled: 1, Lead Time: 13 days, Date: May 2016, Price: $227.35, Country: AR\n",
            "Hotel: City Hotel, Canceled: 3, Lead Time: 132 days, Date: August 2016, Price: $227.35, Country: AL\n",
            "Hotel\n",
            "\n",
            " Your Query: Show me total revenue for July 2017.\n"
          ]
        },
        {
          "output_type": "stream",
          "name": "stderr",
          "text": [
            "Setting `pad_token_id` to `eos_token_id`:50256 for open-end generation.\n"
          ]
        },
        {
          "output_type": "stream",
          "name": "stdout",
          "text": [
            "\n",
            " Answer: \n",
            "I am your booking assistant. I will answer the query based on the retrieved booking data.\n",
            "Query: Show me total revenue for July 2017.\n",
            "Booking Info: Hotel: City Hotel, Canceled: 1, Lead Time: 149 days, Date: June 2017, Price: $210.0, Country: IRL\n",
            "Hotel: City Hotel, Canceled: 0, Lead Time: 157 days, Date: June 2017, Price: $148.5, Country: IRL\n",
            "Hotel: Resort Hotel, Canceled: 0, Lead Time: 152 days, Date: July 2017, Price: $149.0, Country: IRL\n",
            "Hotel: City Hotel, Canceled: 0, Lead Time: 80 days, Date: June 2017, Price: $185.0, Country: IRL\n",
            "Hotel: City Hotel, Canceled: 0, Lead Time: 146 days, Date: July 2017, Price: $139.5, Country: NLD\n",
            "Answer:\n",
            "\n",
            "Hotel: City Hotel, Canceled: 0, Lead Time: 151 days, Date: June 2017, Price: $139.5, Country: IRL\n",
            "Hotel: City Hotel, Canceled: 0, Lead Time: 146 days, Date: July 2017, Price: $139.5, Country: IRL\n",
            "Hotel: Resort Hotel, Canceled: 0, Lead Time: 152 days, Date: July 2017, Price: $148.5, Country: IRL\n",
            "Hotel: City Hotel, Canceled: 0, Lead Time: 84 days, Date: June 2017, Price: $150.0, Country: IRL\n",
            "Hotel: City Hotel, Canceled: 1, Lead Time: 145 days, Date: June 2017, Price: $145.6, Country: NLD\n",
            "Hotel: City Hotel, Canceled: 0, Lead Time: 148 days, Date: July 2017, Price: $145.6,\n",
            "\n",
            " Your Query: exit\n",
            " Exiting the RAG system. See you later\n"
          ]
        }
      ]
    }
  ]
}